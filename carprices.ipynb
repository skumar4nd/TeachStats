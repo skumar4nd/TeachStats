{
 "cells": [
  {
   "cell_type": "markdown",
   "metadata": {},
   "source": [
    "### Web scrape used car price for South Bend area from cars.com"
   ]
  },
  {
   "cell_type": "code",
   "execution_count": 23,
   "metadata": {},
   "outputs": [],
   "source": [
    "# Import necessary libraries\n",
    "import requests\n",
    "import bs4"
   ]
  },
  {
   "cell_type": "code",
   "execution_count": 24,
   "metadata": {},
   "outputs": [],
   "source": [
    "def extract(car):\n",
    "    temp=car.select('.deeplink-srp')[0]['data-dtm-clickthru'].split()\n",
    "    ind = [i for i, s in enumerate(temp) if 'year' in s]\n",
    "    t1=temp[ind[0]].split(\",\")\n",
    "    \n",
    "    ind1 = [i for i, s in enumerate(t1) if 'year' in s]\n",
    "    ind2 = [i for i, s in enumerate(t1) if 'price' in s]\n",
    "    year=int(t1[ind1[0]].split(\":\")[1])\n",
    "    price=int(t1[ind2[0]].split(\":\")[1])\n",
    "    return [year, price]\n",
    "    "
   ]
  },
  {
   "cell_type": "code",
   "execution_count": 25,
   "metadata": {},
   "outputs": [],
   "source": [
    "base_url='https://www.cars.com/for-sale/searchresults.action/?dlId=452450&page={}&perPage=20&searchSource=PAGINATION&sort=relevance&stkTypId=28881&zc=46545'\n",
    "year=[]\n",
    "price=[]\n",
    "for n in range(1,11):\n",
    "    scrape_url=base_url.format(n)\n",
    "    res=requests.get(scrape_url)\n",
    "    data=bs4.BeautifulSoup(res.text,'lxml')\n",
    "    cars=data.select(\".listing-row__details\")\n",
    "        \n",
    "    #Extract make year and price\n",
    "    for car in cars: \n",
    "        ret=extract(car)        \n",
    "        year.append(ret[0])\n",
    "        price.append(ret[1])"
   ]
  }
 ],
 "metadata": {
  "kernelspec": {
   "display_name": "Python 3",
   "language": "python",
   "name": "python3"
  },
  "language_info": {
   "codemirror_mode": {
    "name": "ipython",
    "version": 3
   },
   "file_extension": ".py",
   "mimetype": "text/x-python",
   "name": "python",
   "nbconvert_exporter": "python",
   "pygments_lexer": "ipython3",
   "version": "3.8.3"
  }
 },
 "nbformat": 4,
 "nbformat_minor": 4
}
